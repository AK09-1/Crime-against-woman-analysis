{
 "cells": [
  {
   "cell_type": "markdown",
   "metadata": {},
   "source": [
    "# **महिलाओं के खिलाफ हिंसा करना बंद करें**\n",
    "**Stop violence againts Womens**"
   ]
  },
  {
   "cell_type": "markdown",
   "metadata": {},
   "source": [
    "This data is collated from https://data.gov.in. It has state-wise and district level data on the various crimes committed against women between 2001 to 2014. \n",
    "The crimes included are:\n",
    "* Rape\n",
    "* Kidnapping and Abduction\n",
    "* Dowry Deaths\n",
    "* Assault on women with intent to outrage her modesty\n",
    "* Insult to modesty of Women\n",
    "* Cruelty by Husband or his Relatives\n",
    "* Importation of Girls"
   ]
  },
  {
   "cell_type": "markdown",
   "metadata": {},
   "source": [
    "**Import libraries**"
   ]
  },
  {
   "cell_type": "code",
   "execution_count": 1,
   "metadata": {},
   "outputs": [],
   "source": [
    "import pandas as pd\n",
    "import numpy as np\n",
    "import matplotlib.pyplot as plt\n",
    "import seaborn as sns\n",
    "import plotly.express as px\n",
    "import plotly.graph_objects as go"
   ]
  },
  {
   "cell_type": "markdown",
   "metadata": {},
   "source": [
    "**Read csv file**"
   ]
  },
  {
   "cell_type": "code",
   "execution_count": 9,
   "metadata": {},
   "outputs": [
    {
     "data": {
      "text/html": [
       "<div>\n",
       "<style scoped>\n",
       "    .dataframe tbody tr th:only-of-type {\n",
       "        vertical-align: middle;\n",
       "    }\n",
       "\n",
       "    .dataframe tbody tr th {\n",
       "        vertical-align: top;\n",
       "    }\n",
       "\n",
       "    .dataframe thead th {\n",
       "        text-align: right;\n",
       "    }\n",
       "</style>\n",
       "<table border=\"1\" class=\"dataframe\">\n",
       "  <thead>\n",
       "    <tr style=\"text-align: right;\">\n",
       "      <th></th>\n",
       "      <th>Unnamed: 0</th>\n",
       "      <th>STATE/UT</th>\n",
       "      <th>DISTRICT</th>\n",
       "      <th>Year</th>\n",
       "      <th>Rape</th>\n",
       "      <th>Kidnapping and Abduction</th>\n",
       "      <th>Dowry Deaths</th>\n",
       "      <th>Assault on women with intent to outrage her modesty</th>\n",
       "      <th>Insult to modesty of Women</th>\n",
       "      <th>Cruelty by Husband or his Relatives</th>\n",
       "      <th>Importation of Girls</th>\n",
       "    </tr>\n",
       "  </thead>\n",
       "  <tbody>\n",
       "    <tr>\n",
       "      <th>0</th>\n",
       "      <td>0</td>\n",
       "      <td>ANDHRA PRADESH</td>\n",
       "      <td>ADILABAD</td>\n",
       "      <td>2001</td>\n",
       "      <td>50</td>\n",
       "      <td>30</td>\n",
       "      <td>16</td>\n",
       "      <td>149</td>\n",
       "      <td>34</td>\n",
       "      <td>175</td>\n",
       "      <td>0</td>\n",
       "    </tr>\n",
       "    <tr>\n",
       "      <th>1</th>\n",
       "      <td>1</td>\n",
       "      <td>ANDHRA PRADESH</td>\n",
       "      <td>ANANTAPUR</td>\n",
       "      <td>2001</td>\n",
       "      <td>23</td>\n",
       "      <td>30</td>\n",
       "      <td>7</td>\n",
       "      <td>118</td>\n",
       "      <td>24</td>\n",
       "      <td>154</td>\n",
       "      <td>0</td>\n",
       "    </tr>\n",
       "    <tr>\n",
       "      <th>2</th>\n",
       "      <td>2</td>\n",
       "      <td>ANDHRA PRADESH</td>\n",
       "      <td>CHITTOOR</td>\n",
       "      <td>2001</td>\n",
       "      <td>27</td>\n",
       "      <td>34</td>\n",
       "      <td>14</td>\n",
       "      <td>112</td>\n",
       "      <td>83</td>\n",
       "      <td>186</td>\n",
       "      <td>0</td>\n",
       "    </tr>\n",
       "    <tr>\n",
       "      <th>3</th>\n",
       "      <td>3</td>\n",
       "      <td>ANDHRA PRADESH</td>\n",
       "      <td>CUDDAPAH</td>\n",
       "      <td>2001</td>\n",
       "      <td>20</td>\n",
       "      <td>20</td>\n",
       "      <td>17</td>\n",
       "      <td>126</td>\n",
       "      <td>38</td>\n",
       "      <td>57</td>\n",
       "      <td>0</td>\n",
       "    </tr>\n",
       "    <tr>\n",
       "      <th>4</th>\n",
       "      <td>4</td>\n",
       "      <td>ANDHRA PRADESH</td>\n",
       "      <td>EAST GODAVARI</td>\n",
       "      <td>2001</td>\n",
       "      <td>23</td>\n",
       "      <td>26</td>\n",
       "      <td>12</td>\n",
       "      <td>109</td>\n",
       "      <td>58</td>\n",
       "      <td>247</td>\n",
       "      <td>0</td>\n",
       "    </tr>\n",
       "    <tr>\n",
       "      <th>...</th>\n",
       "      <td>...</td>\n",
       "      <td>...</td>\n",
       "      <td>...</td>\n",
       "      <td>...</td>\n",
       "      <td>...</td>\n",
       "      <td>...</td>\n",
       "      <td>...</td>\n",
       "      <td>...</td>\n",
       "      <td>...</td>\n",
       "      <td>...</td>\n",
       "      <td>...</td>\n",
       "    </tr>\n",
       "    <tr>\n",
       "      <th>10672</th>\n",
       "      <td>832</td>\n",
       "      <td>Lakshadweep</td>\n",
       "      <td>Lakshadweep</td>\n",
       "      <td>2014</td>\n",
       "      <td>1</td>\n",
       "      <td>0</td>\n",
       "      <td>0</td>\n",
       "      <td>1</td>\n",
       "      <td>2</td>\n",
       "      <td>0</td>\n",
       "      <td>0</td>\n",
       "    </tr>\n",
       "    <tr>\n",
       "      <th>10673</th>\n",
       "      <td>833</td>\n",
       "      <td>Lakshadweep</td>\n",
       "      <td>Total District(s)</td>\n",
       "      <td>2014</td>\n",
       "      <td>1</td>\n",
       "      <td>0</td>\n",
       "      <td>0</td>\n",
       "      <td>1</td>\n",
       "      <td>2</td>\n",
       "      <td>0</td>\n",
       "      <td>0</td>\n",
       "    </tr>\n",
       "    <tr>\n",
       "      <th>10674</th>\n",
       "      <td>834</td>\n",
       "      <td>Puducherry</td>\n",
       "      <td>Karaikal</td>\n",
       "      <td>2014</td>\n",
       "      <td>3</td>\n",
       "      <td>1</td>\n",
       "      <td>0</td>\n",
       "      <td>12</td>\n",
       "      <td>1</td>\n",
       "      <td>1</td>\n",
       "      <td>0</td>\n",
       "    </tr>\n",
       "    <tr>\n",
       "      <th>10675</th>\n",
       "      <td>835</td>\n",
       "      <td>Puducherry</td>\n",
       "      <td>Puducherry</td>\n",
       "      <td>2014</td>\n",
       "      <td>7</td>\n",
       "      <td>6</td>\n",
       "      <td>1</td>\n",
       "      <td>20</td>\n",
       "      <td>7</td>\n",
       "      <td>3</td>\n",
       "      <td>0</td>\n",
       "    </tr>\n",
       "    <tr>\n",
       "      <th>10676</th>\n",
       "      <td>836</td>\n",
       "      <td>Puducherry</td>\n",
       "      <td>Total District(s)</td>\n",
       "      <td>2014</td>\n",
       "      <td>10</td>\n",
       "      <td>7</td>\n",
       "      <td>1</td>\n",
       "      <td>32</td>\n",
       "      <td>8</td>\n",
       "      <td>4</td>\n",
       "      <td>0</td>\n",
       "    </tr>\n",
       "  </tbody>\n",
       "</table>\n",
       "<p>10677 rows × 11 columns</p>\n",
       "</div>"
      ],
      "text/plain": [
       "       Unnamed: 0        STATE/UT           DISTRICT  Year  Rape  \\\n",
       "0               0  ANDHRA PRADESH           ADILABAD  2001    50   \n",
       "1               1  ANDHRA PRADESH          ANANTAPUR  2001    23   \n",
       "2               2  ANDHRA PRADESH           CHITTOOR  2001    27   \n",
       "3               3  ANDHRA PRADESH           CUDDAPAH  2001    20   \n",
       "4               4  ANDHRA PRADESH      EAST GODAVARI  2001    23   \n",
       "...           ...             ...                ...   ...   ...   \n",
       "10672         832     Lakshadweep        Lakshadweep  2014     1   \n",
       "10673         833     Lakshadweep  Total District(s)  2014     1   \n",
       "10674         834      Puducherry           Karaikal  2014     3   \n",
       "10675         835      Puducherry         Puducherry  2014     7   \n",
       "10676         836      Puducherry  Total District(s)  2014    10   \n",
       "\n",
       "       Kidnapping and Abduction  Dowry Deaths  \\\n",
       "0                            30            16   \n",
       "1                            30             7   \n",
       "2                            34            14   \n",
       "3                            20            17   \n",
       "4                            26            12   \n",
       "...                         ...           ...   \n",
       "10672                         0             0   \n",
       "10673                         0             0   \n",
       "10674                         1             0   \n",
       "10675                         6             1   \n",
       "10676                         7             1   \n",
       "\n",
       "       Assault on women with intent to outrage her modesty  \\\n",
       "0                                                    149     \n",
       "1                                                    118     \n",
       "2                                                    112     \n",
       "3                                                    126     \n",
       "4                                                    109     \n",
       "...                                                  ...     \n",
       "10672                                                  1     \n",
       "10673                                                  1     \n",
       "10674                                                 12     \n",
       "10675                                                 20     \n",
       "10676                                                 32     \n",
       "\n",
       "       Insult to modesty of Women  Cruelty by Husband or his Relatives  \\\n",
       "0                              34                                  175   \n",
       "1                              24                                  154   \n",
       "2                              83                                  186   \n",
       "3                              38                                   57   \n",
       "4                              58                                  247   \n",
       "...                           ...                                  ...   \n",
       "10672                           2                                    0   \n",
       "10673                           2                                    0   \n",
       "10674                           1                                    1   \n",
       "10675                           7                                    3   \n",
       "10676                           8                                    4   \n",
       "\n",
       "       Importation of Girls  \n",
       "0                         0  \n",
       "1                         0  \n",
       "2                         0  \n",
       "3                         0  \n",
       "4                         0  \n",
       "...                     ...  \n",
       "10672                     0  \n",
       "10673                     0  \n",
       "10674                     0  \n",
       "10675                     0  \n",
       "10676                     0  \n",
       "\n",
       "[10677 rows x 11 columns]"
      ]
     },
     "execution_count": 9,
     "metadata": {},
     "output_type": "execute_result"
    }
   ],
   "source": [
    "filepath = 'crimes_against_women_2001-2014 (1).csv'\n",
    "data = pd.read_csv(filepath)\n",
    "data"
   ]
  },
  {
   "cell_type": "markdown",
   "metadata": {},
   "source": [
    "**I create a copy of the dataset I will work on**"
   ]
  },
  {
   "cell_type": "code",
   "execution_count": 10,
   "metadata": {},
   "outputs": [],
   "source": [
    "df = data.copy()"
   ]
  },
  {
   "cell_type": "markdown",
   "metadata": {},
   "source": [
    "**A little overview on the dataset**"
   ]
  },
  {
   "cell_type": "code",
   "execution_count": 11,
   "metadata": {},
   "outputs": [
    {
     "data": {
      "text/html": [
       "<div>\n",
       "<style scoped>\n",
       "    .dataframe tbody tr th:only-of-type {\n",
       "        vertical-align: middle;\n",
       "    }\n",
       "\n",
       "    .dataframe tbody tr th {\n",
       "        vertical-align: top;\n",
       "    }\n",
       "\n",
       "    .dataframe thead th {\n",
       "        text-align: right;\n",
       "    }\n",
       "</style>\n",
       "<table border=\"1\" class=\"dataframe\">\n",
       "  <thead>\n",
       "    <tr style=\"text-align: right;\">\n",
       "      <th></th>\n",
       "      <th>Unnamed: 0</th>\n",
       "      <th>STATE/UT</th>\n",
       "      <th>DISTRICT</th>\n",
       "      <th>Year</th>\n",
       "      <th>Rape</th>\n",
       "      <th>Kidnapping and Abduction</th>\n",
       "      <th>Dowry Deaths</th>\n",
       "      <th>Assault on women with intent to outrage her modesty</th>\n",
       "      <th>Insult to modesty of Women</th>\n",
       "      <th>Cruelty by Husband or his Relatives</th>\n",
       "      <th>Importation of Girls</th>\n",
       "    </tr>\n",
       "  </thead>\n",
       "  <tbody>\n",
       "    <tr>\n",
       "      <th>0</th>\n",
       "      <td>0</td>\n",
       "      <td>ANDHRA PRADESH</td>\n",
       "      <td>ADILABAD</td>\n",
       "      <td>2001</td>\n",
       "      <td>50</td>\n",
       "      <td>30</td>\n",
       "      <td>16</td>\n",
       "      <td>149</td>\n",
       "      <td>34</td>\n",
       "      <td>175</td>\n",
       "      <td>0</td>\n",
       "    </tr>\n",
       "    <tr>\n",
       "      <th>1</th>\n",
       "      <td>1</td>\n",
       "      <td>ANDHRA PRADESH</td>\n",
       "      <td>ANANTAPUR</td>\n",
       "      <td>2001</td>\n",
       "      <td>23</td>\n",
       "      <td>30</td>\n",
       "      <td>7</td>\n",
       "      <td>118</td>\n",
       "      <td>24</td>\n",
       "      <td>154</td>\n",
       "      <td>0</td>\n",
       "    </tr>\n",
       "  </tbody>\n",
       "</table>\n",
       "</div>"
      ],
      "text/plain": [
       "   Unnamed: 0        STATE/UT   DISTRICT  Year  Rape  \\\n",
       "0           0  ANDHRA PRADESH   ADILABAD  2001    50   \n",
       "1           1  ANDHRA PRADESH  ANANTAPUR  2001    23   \n",
       "\n",
       "   Kidnapping and Abduction  Dowry Deaths  \\\n",
       "0                        30            16   \n",
       "1                        30             7   \n",
       "\n",
       "   Assault on women with intent to outrage her modesty  \\\n",
       "0                                                149     \n",
       "1                                                118     \n",
       "\n",
       "   Insult to modesty of Women  Cruelty by Husband or his Relatives  \\\n",
       "0                          34                                  175   \n",
       "1                          24                                  154   \n",
       "\n",
       "   Importation of Girls  \n",
       "0                     0  \n",
       "1                     0  "
      ]
     },
     "execution_count": 11,
     "metadata": {},
     "output_type": "execute_result"
    }
   ],
   "source": [
    "df.head(2)"
   ]
  },
  {
   "cell_type": "markdown",
   "metadata": {},
   "source": [
    "A little description of the features:\n",
    "- **'Unnamed:0'** -> index;\n",
    "- **State or UT Name** -> name of the State or Union Territories\n",
    "- **District** -> Name of the district\n",
    "- **Year** -> year when it happend\n",
    "- The other columns have a self explanatory name \n"
   ]
  },
  {
   "cell_type": "markdown",
   "metadata": {},
   "source": [
    "**Then let's see what types of data we have**"
   ]
  },
  {
   "cell_type": "code",
   "execution_count": 5,
   "metadata": {
    "execution": {
     "iopub.execute_input": "2022-02-25T14:43:06.647024Z",
     "iopub.status.busy": "2022-02-25T14:43:06.646683Z",
     "iopub.status.idle": "2022-02-25T14:43:06.673084Z",
     "shell.execute_reply": "2022-02-25T14:43:06.671841Z",
     "shell.execute_reply.started": "2022-02-25T14:43:06.646992Z"
    }
   },
   "outputs": [],
   "source": [
    "df.info()"
   ]
  },
  {
   "cell_type": "markdown",
   "metadata": {},
   "source": [
    "**See the shapes of the dataset**"
   ]
  },
  {
   "cell_type": "code",
   "execution_count": 6,
   "metadata": {
    "execution": {
     "iopub.execute_input": "2022-02-25T14:43:06.675257Z",
     "iopub.status.busy": "2022-02-25T14:43:06.674750Z",
     "iopub.status.idle": "2022-02-25T14:43:06.689674Z",
     "shell.execute_reply": "2022-02-25T14:43:06.688548Z",
     "shell.execute_reply.started": "2022-02-25T14:43:06.675221Z"
    }
   },
   "outputs": [],
   "source": [
    "df.shape"
   ]
  },
  {
   "cell_type": "markdown",
   "metadata": {},
   "source": [
    "**Drop the index column that is useless**"
   ]
  },
  {
   "cell_type": "code",
   "execution_count": 7,
   "metadata": {
    "execution": {
     "iopub.execute_input": "2022-02-25T14:43:06.691483Z",
     "iopub.status.busy": "2022-02-25T14:43:06.690880Z",
     "iopub.status.idle": "2022-02-25T14:43:06.704154Z",
     "shell.execute_reply": "2022-02-25T14:43:06.703193Z",
     "shell.execute_reply.started": "2022-02-25T14:43:06.691441Z"
    }
   },
   "outputs": [],
   "source": [
    "df = df.drop(columns = 'Unnamed: 0')"
   ]
  },
  {
   "cell_type": "markdown",
   "metadata": {},
   "source": [
    "**Drop the duplicates of the states**"
   ]
  },
  {
   "cell_type": "code",
   "execution_count": 8,
   "metadata": {
    "execution": {
     "iopub.execute_input": "2022-02-25T14:43:06.708343Z",
     "iopub.status.busy": "2022-02-25T14:43:06.707599Z",
     "iopub.status.idle": "2022-02-25T14:43:06.860150Z",
     "shell.execute_reply": "2022-02-25T14:43:06.858800Z",
     "shell.execute_reply.started": "2022-02-25T14:43:06.708289Z"
    }
   },
   "outputs": [],
   "source": [
    "df[\"STATE/UT\"]=df.apply(lambda row:row['STATE/UT'].replace(\" \",\"\").lower(),axis=1)\n",
    "df['STATE/UT'].replace(\"delhiut\",'delhi',inplace=True)"
   ]
  },
  {
   "cell_type": "markdown",
   "metadata": {},
   "source": [
    "**But excuse the ignorance, which are the States and union territories of India?**"
   ]
  },
  {
   "cell_type": "code",
   "execution_count": 9,
   "metadata": {
    "execution": {
     "iopub.execute_input": "2022-02-25T14:43:06.862913Z",
     "iopub.status.busy": "2022-02-25T14:43:06.862436Z",
     "iopub.status.idle": "2022-02-25T14:43:06.872059Z",
     "shell.execute_reply": "2022-02-25T14:43:06.870861Z",
     "shell.execute_reply.started": "2022-02-25T14:43:06.862862Z"
    }
   },
   "outputs": [],
   "source": [
    "states=df['STATE/UT'].unique()\n",
    "print(\"Number of states/territories without duplicates: \", len(states))\n",
    "\n",
    "print(states)"
   ]
  },
  {
   "cell_type": "markdown",
   "metadata": {},
   "source": [
    "**Create a new feature that contains a sum of all the crimes of a country**"
   ]
  },
  {
   "cell_type": "code",
   "execution_count": 10,
   "metadata": {
    "execution": {
     "iopub.execute_input": "2022-02-25T14:43:06.874131Z",
     "iopub.status.busy": "2022-02-25T14:43:06.873551Z",
     "iopub.status.idle": "2022-02-25T14:43:06.910772Z",
     "shell.execute_reply": "2022-02-25T14:43:06.909592Z",
     "shell.execute_reply.started": "2022-02-25T14:43:06.874080Z"
    }
   },
   "outputs": [],
   "source": [
    "df['total_crimes']=(df['Rape']+df['Kidnapping and Abduction']+df['Dowry Deaths']+\n",
    "                       df['Assault on women with intent to outrage her modesty']+\n",
    "                       df['Insult to modesty of Women']+df['Cruelty by Husband or his Relatives']+\n",
    "                       df['Importation of Girls'])"
   ]
  },
  {
   "cell_type": "markdown",
   "metadata": {},
   "source": [
    "**Let's create a dataframe that contains the sum of the crimes of all the states group by years**"
   ]
  },
  {
   "cell_type": "code",
   "execution_count": 11,
   "metadata": {
    "execution": {
     "iopub.execute_input": "2022-02-25T14:43:06.913338Z",
     "iopub.status.busy": "2022-02-25T14:43:06.912561Z",
     "iopub.status.idle": "2022-02-25T14:43:06.956229Z",
     "shell.execute_reply": "2022-02-25T14:43:06.955202Z",
     "shell.execute_reply.started": "2022-02-25T14:43:06.913252Z"
    }
   },
   "outputs": [],
   "source": [
    "#total_crimes\n",
    "crimes=['Rape','Kidnapping and Abduction','Dowry Deaths',\n",
    "        'Assault on women with intent to outrage her modesty',\n",
    "        'Insult to modesty of Women','Cruelty by Husband or his Relatives',\n",
    "        'Importation of Girls','total_crimes']\n",
    "\n",
    "df1=pd.DataFrame()\n",
    "for i in crimes:\n",
    "    df_crimes=df.groupby(['Year'])[i].sum()\n",
    "    df1[i]=df_crimes\n",
    "df1"
   ]
  },
  {
   "cell_type": "markdown",
   "metadata": {},
   "source": [
    "**And a more simple look of the total number number of crimes in each year with a barplot**"
   ]
  },
  {
   "cell_type": "code",
   "execution_count": 12,
   "metadata": {
    "_kg_hide-input": true,
    "execution": {
     "iopub.execute_input": "2022-02-25T14:43:06.958162Z",
     "iopub.status.busy": "2022-02-25T14:43:06.957662Z",
     "iopub.status.idle": "2022-02-25T14:43:08.057695Z",
     "shell.execute_reply": "2022-02-25T14:43:08.056656Z",
     "shell.execute_reply.started": "2022-02-25T14:43:06.958124Z"
    }
   },
   "outputs": [],
   "source": [
    "fig = px.bar(df1, x = df1.index,\n",
    "             y = 'total_crimes', title = \"Total Number Of Crimes In Each Year\")\n",
    "fig.show()"
   ]
  },
  {
   "cell_type": "code",
   "execution_count": 13,
   "metadata": {
    "execution": {
     "iopub.execute_input": "2022-02-25T14:43:08.059829Z",
     "iopub.status.busy": "2022-02-25T14:43:08.059375Z",
     "iopub.status.idle": "2022-02-25T14:43:08.362587Z",
     "shell.execute_reply": "2022-02-25T14:43:08.361429Z",
     "shell.execute_reply.started": "2022-02-25T14:43:08.059777Z"
    }
   },
   "outputs": [],
   "source": [
    "plt.figure(figsize=(15,8))\n",
    "sns.barplot(data=df1,x = df1.index,y = 'total_crimes')"
   ]
  },
  {
   "cell_type": "markdown",
   "metadata": {},
   "source": [
    "**Have a more simple look also about all the crimes** "
   ]
  },
  {
   "cell_type": "code",
   "execution_count": 14,
   "metadata": {
    "_kg_hide-input": true,
    "execution": {
     "iopub.execute_input": "2022-02-25T14:43:08.364340Z",
     "iopub.status.busy": "2022-02-25T14:43:08.363983Z",
     "iopub.status.idle": "2022-02-25T14:43:08.543521Z",
     "shell.execute_reply": "2022-02-25T14:43:08.542462Z",
     "shell.execute_reply.started": "2022-02-25T14:43:08.364300Z"
    }
   },
   "outputs": [],
   "source": [
    "from plotly.subplots import make_subplots\n",
    "\n",
    "fig = make_subplots(rows = 4, cols = 2, shared_xaxes=True,\n",
    "                    vertical_spacing=0.1,\n",
    "                    subplot_titles=(\"Rape\",\"Dowry Deaths\",\n",
    "                                    \"Kidnapping and Abduction\",\n",
    "                                    \"Assault on women to outrage\",\n",
    "                                    \"Insult to modesty of Women\",\n",
    "                                    \"Cruelty by Husband or his Relatives\",\n",
    "                                    \"Importation of Girls\", \"total_crimes\"))\n",
    "\n",
    "fig.add_trace(go.Scatter(x = df1.index, y = df1['Rape']),row = 1, col = 1)\n",
    "fig.add_trace(go.Scatter(x = df1.index, y = df1['Dowry Deaths']),row = 1, col = 2)\n",
    "fig.add_trace(go.Scatter(x = df1.index, y = df1['Kidnapping and Abduction']),row = 2, col = 1)\n",
    "fig.add_trace(go.Scatter(x = df1.index, y = df1['Assault on women with intent to outrage her modesty']),row = 2, col = 2)\n",
    "fig.add_trace(go.Scatter(x = df1.index, y = df1['Insult to modesty of Women']),row = 3, col = 1)\n",
    "fig.add_trace(go.Scatter(x = df1.index, y = df1['Cruelty by Husband or his Relatives']),row = 3, col = 2)\n",
    "fig.add_trace(go.Scatter(x = df1.index, y = df1['Importation of Girls']),row= 4 , col = 1)\n",
    "fig.add_trace(go.Scatter(x = df1.index, y = df1['total_crimes']),row = 4, col = 2)\n",
    "\n",
    "fig.update_layout(height=700, showlegend=False)\n",
    "\n",
    "fig.show()"
   ]
  },
  {
   "cell_type": "code",
   "execution_count": 31,
   "metadata": {
    "execution": {
     "iopub.execute_input": "2022-02-25T14:49:20.871609Z",
     "iopub.status.busy": "2022-02-25T14:49:20.871179Z",
     "iopub.status.idle": "2022-02-25T14:49:24.609538Z",
     "shell.execute_reply": "2022-02-25T14:49:24.608347Z",
     "shell.execute_reply.started": "2022-02-25T14:49:20.871573Z"
    }
   },
   "outputs": [],
   "source": [
    "fig,axes = plt.subplots(4,2,figsize=(100,100))\n",
    "sns.barplot(ax=axes[0][0],x = df1.index, y = df1['Rape'])\n",
    "sns.barplot(ax=axes[0][1],x = df1.index, y = df1['Dowry Deaths'])\n",
    "sns.barplot(ax=axes[1][0],x = df1.index, y = df1['Kidnapping and Abduction'])\n",
    "sns.barplot(ax=axes[1][1],x = df1.index, y = df1['Assault on women with intent to outrage her modesty'])\n",
    "sns.barplot(ax=axes[2][0],x = df1.index, y = df1['Insult to modesty of Women'])\n",
    "sns.barplot(ax=axes[2][1],x = df1.index, y = df1['Cruelty by Husband or his Relatives'])\n",
    "sns.barplot(ax=axes[3][0],x = df1.index, y = df1['Importation of Girls'])\n",
    "sns.barplot(ax=axes[3][1],x = df1.index, y = df1['total_crimes'])\n",
    "\n"
   ]
  },
  {
   "cell_type": "markdown",
   "metadata": {},
   "source": [
    "**Comparing What Part Of Total Crimes are Rape.**\n"
   ]
  },
  {
   "cell_type": "code",
   "execution_count": 42,
   "metadata": {
    "execution": {
     "iopub.execute_input": "2022-02-25T15:00:35.941257Z",
     "iopub.status.busy": "2022-02-25T15:00:35.940850Z",
     "iopub.status.idle": "2022-02-25T15:00:36.137113Z",
     "shell.execute_reply": "2022-02-25T15:00:36.135884Z",
     "shell.execute_reply.started": "2022-02-25T15:00:35.941224Z"
    }
   },
   "outputs": [],
   "source": [
    "sns.lineplot(data=df1,x=df1.index,y=df1['Rape'])\n",
    "\n",
    "sns.lineplot(data=df1,x=df1.index,y=df1['total_crimes'])"
   ]
  },
  {
   "cell_type": "markdown",
   "metadata": {},
   "source": [
    "# **What are the most common crimes?**"
   ]
  },
  {
   "cell_type": "code",
   "execution_count": 44,
   "metadata": {
    "_kg_hide-input": true,
    "execution": {
     "iopub.execute_input": "2022-02-25T15:03:12.890849Z",
     "iopub.status.busy": "2022-02-25T15:03:12.890393Z",
     "iopub.status.idle": "2022-02-25T15:03:12.896538Z",
     "shell.execute_reply": "2022-02-25T15:03:12.895119Z",
     "shell.execute_reply.started": "2022-02-25T15:03:12.890812Z"
    }
   },
   "outputs": [],
   "source": [
    " crimes1 = ['Rape',\n",
    " 'Kidnapping and Abduction',\n",
    " 'Dowry Deaths',\n",
    " 'Assault on women with intent to outrage her modesty',\n",
    " 'Insult to modesty of Women',\n",
    " 'Cruelty by Husband or his Relatives',\n",
    " 'Importation of Girls']"
   ]
  },
  {
   "cell_type": "code",
   "execution_count": 45,
   "metadata": {
    "_kg_hide-input": true,
    "execution": {
     "iopub.execute_input": "2022-02-25T15:03:30.139879Z",
     "iopub.status.busy": "2022-02-25T15:03:30.139501Z",
     "iopub.status.idle": "2022-02-25T15:03:30.180517Z",
     "shell.execute_reply": "2022-02-25T15:03:30.179599Z",
     "shell.execute_reply.started": "2022-02-25T15:03:30.139849Z"
    }
   },
   "outputs": [],
   "source": [
    "df_top_crimes=pd.DataFrame(columns=['crimes',\"total\"])\n",
    "for i in crimes1:\n",
    "    df_top_crimes=df_top_crimes.append({'crimes':i ,'total':df[i].sum(axis=0)},ignore_index=True)\n",
    "\n",
    "\n",
    "fig = go.Figure(data=[go.Pie(labels=df_top_crimes['crimes'], values= df_top_crimes['total'], hole=.3)])\n",
    "fig.update_layout(title_text = \"Pie Chart of the crimes in India\")\n",
    "fig.show()"
   ]
  },
  {
   "cell_type": "markdown",
   "metadata": {},
   "source": [
    "**There have been changes between 2001 and 2014? I hope that but let's have a look with 2 pie charts**"
   ]
  },
  {
   "cell_type": "code",
   "execution_count": 46,
   "metadata": {
    "_kg_hide-input": true,
    "execution": {
     "iopub.execute_input": "2022-02-25T15:05:45.158520Z",
     "iopub.status.busy": "2022-02-25T15:05:45.158069Z",
     "iopub.status.idle": "2022-02-25T15:05:45.188785Z",
     "shell.execute_reply": "2022-02-25T15:05:45.187200Z",
     "shell.execute_reply.started": "2022-02-25T15:05:45.158485Z"
    }
   },
   "outputs": [],
   "source": [
    "labels = ['Rape','Kidnapping and Abduction','Dowry Deaths','Assault on women with intent to outrage her modesty',\n",
    " 'Insult to modesty of Women','Cruelty by Husband or his Relatives','Importation of Girls']\n",
    "\n",
    "fig = make_subplots(1, 2, specs=[[{'type':'domain'}, {'type':'domain'}]],\n",
    "                    subplot_titles=['2001', '2014'])\n",
    "fig.add_trace(go.Pie(labels=labels, values=[32150, 29290, 13702, 68248, 19492, 98340, 228],\n",
    "                     scalegroup='one', name=\"India crimes in 2001\"), 1, 1)\n",
    "fig.add_trace(go.Pie(labels=labels, values=[73470, 114622, 16910, 164470, 19470, 245754, 26],\n",
    "                     scalegroup='one', name=\"India crimes in 2014\"), 1, 2)\n",
    "\n",
    "fig.update_layout(title_text='India crimes pie charts')\n",
    "fig.show()"
   ]
  },
  {
   "cell_type": "markdown",
   "metadata": {},
   "source": [
    "As we can see there haven't been many changes, there has only been a slight increase in dowry deaths, a sharp decrease in kidnapping and abudction and a decrease of the insults to modesty of Women."
   ]
  },
  {
   "cell_type": "markdown",
   "metadata": {},
   "source": [
    "# **What are the countries with more crimes?**"
   ]
  },
  {
   "cell_type": "code",
   "execution_count": 47,
   "metadata": {
    "_kg_hide-input": true,
    "execution": {
     "iopub.execute_input": "2022-02-25T15:05:55.870786Z",
     "iopub.status.busy": "2022-02-25T15:05:55.870232Z",
     "iopub.status.idle": "2022-02-25T15:05:55.877074Z",
     "shell.execute_reply": "2022-02-25T15:05:55.876061Z",
     "shell.execute_reply.started": "2022-02-25T15:05:55.870749Z"
    }
   },
   "outputs": [],
   "source": [
    "states=df['STATE/UT'].unique()"
   ]
  },
  {
   "cell_type": "code",
   "execution_count": 48,
   "metadata": {
    "_kg_hide-input": true,
    "execution": {
     "iopub.execute_input": "2022-02-25T15:06:53.670858Z",
     "iopub.status.busy": "2022-02-25T15:06:53.670183Z",
     "iopub.status.idle": "2022-02-25T15:06:53.767529Z",
     "shell.execute_reply": "2022-02-25T15:06:53.766301Z",
     "shell.execute_reply.started": "2022-02-25T15:06:53.670805Z"
    }
   },
   "outputs": [],
   "source": [
    "df_state=pd.DataFrame()\n",
    "for i in crimes:\n",
    "    df_state_crimes=df.groupby(['STATE/UT'])[i].sum()\n",
    "    df_state[i]=df_state_crimes\n",
    "\n",
    "\n",
    "fig = px.bar(df_state, x = df_state.index,\n",
    "             y = 'total_crimes', title = \"Total Number Of Crimes In Each Country\")\n",
    "fig.update_xaxes(categoryorder = 'total descending')\n",
    "fig.show()"
   ]
  },
  {
   "cell_type": "code",
   "execution_count": 81,
   "metadata": {
    "execution": {
     "iopub.execute_input": "2022-02-25T15:41:40.601590Z",
     "iopub.status.busy": "2022-02-25T15:41:40.600990Z",
     "iopub.status.idle": "2022-02-25T15:41:42.789685Z",
     "shell.execute_reply": "2022-02-25T15:41:42.788607Z",
     "shell.execute_reply.started": "2022-02-25T15:41:40.601553Z"
    }
   },
   "outputs": [],
   "source": [
    "df_state=pd.DataFrame()\n",
    "for i in crimes:\n",
    "    df_state_crimes=df.groupby(['STATE/UT'])[i].sum()\n",
    "    df_state[i]=df_state_crimes\n",
    "\n",
    "plt.figure(figsize=(100,100))\n",
    "df_new=df_state.sort_values(by=['total_crimes'])\n",
    "sns.barplot(data = df_new,x = df_state.index,y = 'total_crimes')"
   ]
  },
  {
   "cell_type": "code",
   "execution_count": 62,
   "metadata": {
    "_kg_hide-input": true,
    "execution": {
     "iopub.execute_input": "2022-02-25T15:22:43.331182Z",
     "iopub.status.busy": "2022-02-25T15:22:43.330762Z",
     "iopub.status.idle": "2022-02-25T15:22:43.345955Z",
     "shell.execute_reply": "2022-02-25T15:22:43.344882Z",
     "shell.execute_reply.started": "2022-02-25T15:22:43.331147Z"
    }
   },
   "outputs": [],
   "source": [
    "df_state = df_state.sort_values(by = 'total_crimes', ascending = False)\n",
    "most_criminal_states = df_state[:3]\n",
    "most_criminal_states"
   ]
  },
  {
   "cell_type": "markdown",
   "metadata": {},
   "source": [
    "As we can see the countries with more crimes in are **Uttar Pradesh**, **Andhra Pradesh**, **West Bengal**, **Rajasthan**, **Madhya Pradesh**."
   ]
  },
  {
   "cell_type": "code",
   "execution_count": 64,
   "metadata": {
    "_kg_hide-input": true,
    "execution": {
     "iopub.execute_input": "2022-02-25T15:22:57.261117Z",
     "iopub.status.busy": "2022-02-25T15:22:57.260695Z",
     "iopub.status.idle": "2022-02-25T15:22:57.274966Z",
     "shell.execute_reply": "2022-02-25T15:22:57.273596Z",
     "shell.execute_reply.started": "2022-02-25T15:22:57.261079Z"
    }
   },
   "outputs": [],
   "source": [
    "least_criminal_states = df_state[-3:]\n",
    "least_criminal_states"
   ]
  },
  {
   "cell_type": "markdown",
   "metadata": {},
   "source": [
    "While the countries with least crimes are **Sikkim**, **Nagaland**, **D&nhaveli**, **Daman & Diu** and **Lakshadweep**"
   ]
  },
  {
   "cell_type": "markdown",
   "metadata": {},
   "source": [
    "# **Sort Analysis of the 3 states with most crimes**"
   ]
  },
  {
   "cell_type": "markdown",
   "metadata": {},
   "source": [
    "**Uttar Pradesh**"
   ]
  },
  {
   "cell_type": "markdown",
   "metadata": {},
   "source": [
    "![](https://dz01iyojmxk8t.cloudfront.net/wp-content/uploads/2019/09/18165138/FB-uttar-pradesh.jpg)"
   ]
  },
  {
   "cell_type": "code",
   "execution_count": 65,
   "metadata": {
    "_kg_hide-input": true,
    "execution": {
     "iopub.execute_input": "2022-02-25T15:23:04.726100Z",
     "iopub.status.busy": "2022-02-25T15:23:04.725680Z",
     "iopub.status.idle": "2022-02-25T15:23:04.762538Z",
     "shell.execute_reply": "2022-02-25T15:23:04.761719Z",
     "shell.execute_reply.started": "2022-02-25T15:23:04.726061Z"
    }
   },
   "outputs": [],
   "source": [
    "df_up=df.loc[df['STATE/UT']=='uttarpradesh']\n",
    "\n",
    "df_up1=pd.DataFrame()\n",
    "for i in crimes:\n",
    "    df_u=df_up.groupby(['Year'])[i].sum()\n",
    "    df_up1[i]=df_u\n",
    "df_up1"
   ]
  },
  {
   "cell_type": "code",
   "execution_count": 12,
   "metadata": {
    "_kg_hide-input": true
   },
   "outputs": [
    {
     "ename": "NameError",
     "evalue": "name 'make_subplots' is not defined",
     "output_type": "error",
     "traceback": [
      "\u001b[1;31m---------------------------------------------------------------------------\u001b[0m",
      "\u001b[1;31mNameError\u001b[0m                                 Traceback (most recent call last)",
      "\u001b[1;32m<ipython-input-12-2ee11a4a9e19>\u001b[0m in \u001b[0;36m<module>\u001b[1;34m\u001b[0m\n\u001b[1;32m----> 1\u001b[1;33m fig = make_subplots(rows = 4, cols = 2, shared_xaxes=True,\n\u001b[0m\u001b[0;32m      2\u001b[0m                     \u001b[0mvertical_spacing\u001b[0m\u001b[1;33m=\u001b[0m\u001b[1;36m0.1\u001b[0m\u001b[1;33m,\u001b[0m\u001b[1;33m\u001b[0m\u001b[1;33m\u001b[0m\u001b[0m\n\u001b[0;32m      3\u001b[0m                     subplot_titles=(\"Rape\",\"Dowry Deaths\",\n\u001b[0;32m      4\u001b[0m                                     \u001b[1;34m\"Kidnapping and Abduction\"\u001b[0m\u001b[1;33m,\u001b[0m\u001b[1;33m\u001b[0m\u001b[1;33m\u001b[0m\u001b[0m\n\u001b[0;32m      5\u001b[0m                                     \u001b[1;34m\"Assault on women to outrage\"\u001b[0m\u001b[1;33m,\u001b[0m\u001b[1;33m\u001b[0m\u001b[1;33m\u001b[0m\u001b[0m\n",
      "\u001b[1;31mNameError\u001b[0m: name 'make_subplots' is not defined"
     ]
    }
   ],
   "source": [
    "fig = make_subplots(rows = 4, cols = 2, shared_xaxes=True,\n",
    "                    vertical_spacing=0.1,\n",
    "                    subplot_titles=(\"Rape\",\"Dowry Deaths\",\n",
    "                                    \"Kidnapping and Abduction\",\n",
    "                                    \"Assault on women to outrage\",\n",
    "                                    \"Insult to modesty of Women\",\n",
    "                                    \"Cruelty by Husband or his Relatives\",\n",
    "                                    \"Importation of Girls\", \"total_crimes\"))\n",
    "\n",
    "fig.add_trace(go.Scatter(x = df_up1.index, y = df_up1['Rape']),row = 1, col = 1)\n",
    "fig.add_trace(go.Scatter(x = df_up1.index, y = df_up1['Dowry Deaths']),row = 1, col = 2)\n",
    "fig.add_trace(go.Scatter(x = df_up1.index, y = df_up1['Kidnapping and Abduction']),row = 2, col = 1)\n",
    "fig.add_trace(go.Scatter(x = df_up1.index, y = df_up1['Assault on women with intent to outrage her modesty']),row = 2, col = 2)\n",
    "fig.add_trace(go.Scatter(x = df_up1.index, y = df_up1['Insult to modesty of Women']),row = 3, col = 1)\n",
    "fig.add_trace(go.Scatter(x = df_up1.index, y = df_up1['Cruelty by Husband or his Relatives']),row = 3, col = 2)\n",
    "fig.add_trace(go.Scatter(x = df_up1.index, y = df_up1['Importation of Girls']),row= 4 , col = 1)\n",
    "fig.add_trace(go.Scatter(x = df_up1.index, y = df_up1['total_crimes']),row = 4, col = 2)\n",
    "\n",
    "fig.update_layout(height=700, showlegend=False)\n",
    "\n",
    "fig.show()"
   ]
  },
  {
   "cell_type": "markdown",
   "metadata": {},
   "source": [
    "**Andhra Pradesh**"
   ]
  },
  {
   "cell_type": "markdown",
   "metadata": {},
   "source": [
    "![](https://static.investindia.gov.in/s3fs-public/styles/clusters_banner/public/2018-12/Industrial%20Corridors_Andhra%20Pradesh.jpg?itok=GV9bbAc8)"
   ]
  },
  {
   "cell_type": "code",
   "execution_count": 25,
   "metadata": {
    "execution": {
     "iopub.execute_input": "2022-02-25T14:43:12.883454Z",
     "iopub.status.busy": "2022-02-25T14:43:12.883070Z",
     "iopub.status.idle": "2022-02-25T14:43:12.924445Z",
     "shell.execute_reply": "2022-02-25T14:43:12.923139Z",
     "shell.execute_reply.started": "2022-02-25T14:43:12.883417Z"
    }
   },
   "outputs": [],
   "source": [
    "df_ap=df.loc[df['STATE/UT']=='andhrapradesh']\n",
    "df_ap1=pd.DataFrame()\n",
    "for i in crimes:\n",
    "    df_a=df_ap.groupby(['Year'])[i].sum()\n",
    "    df_ap1[i]=df_a\n",
    "df_ap1"
   ]
  },
  {
   "cell_type": "code",
   "execution_count": 26,
   "metadata": {
    "_kg_hide-input": true,
    "execution": {
     "iopub.execute_input": "2022-02-25T14:43:12.926208Z",
     "iopub.status.busy": "2022-02-25T14:43:12.925803Z",
     "iopub.status.idle": "2022-02-25T14:43:13.061368Z",
     "shell.execute_reply": "2022-02-25T14:43:13.060046Z",
     "shell.execute_reply.started": "2022-02-25T14:43:12.926159Z"
    }
   },
   "outputs": [],
   "source": [
    "fig = make_subplots(rows = 4, cols = 2, shared_xaxes=True,\n",
    "                    vertical_spacing=0.1,\n",
    "                    subplot_titles=(\"Rape\",\"Dowry Deaths\",\n",
    "                                    \"Kidnapping and Abduction\",\n",
    "                                    \"Assault on women to outrage\",\n",
    "                                    \"Insult to modesty of Women\",\n",
    "                                    \"Cruelty by Husband or his Relatives\",\n",
    "                                    \"Importation of Girls\", \"total_crimes\"))\n",
    "\n",
    "fig.add_trace(go.Scatter(x = df_ap1.index, y = df_ap1['Rape']),row = 1, col = 1)\n",
    "fig.add_trace(go.Scatter(x = df_ap1.index, y = df_ap1['Dowry Deaths']),row = 1, col = 2)\n",
    "fig.add_trace(go.Scatter(x = df_ap1.index, y = df_ap1['Kidnapping and Abduction']),row = 2, col = 1)\n",
    "fig.add_trace(go.Scatter(x = df_ap1.index, y = df_ap1['Assault on women with intent to outrage her modesty']),row = 2, col = 2)\n",
    "fig.add_trace(go.Scatter(x = df_ap1.index, y = df_ap1['Insult to modesty of Women']),row = 3, col = 1)\n",
    "fig.add_trace(go.Scatter(x = df_ap1.index, y = df_ap1['Cruelty by Husband or his Relatives']),row = 3, col = 2)\n",
    "fig.add_trace(go.Scatter(x = df_ap1.index, y = df_ap1['Importation of Girls']),row= 4 , col = 1)\n",
    "fig.add_trace(go.Scatter(x = df_ap1.index, y = df_ap1['total_crimes']),row = 4, col = 2)\n",
    "\n",
    "fig.update_layout(height=700, showlegend=False)\n",
    "\n",
    "fig.show()"
   ]
  },
  {
   "cell_type": "code",
   "execution_count": 69,
   "metadata": {
    "execution": {
     "iopub.execute_input": "2022-02-25T15:28:12.187022Z",
     "iopub.status.busy": "2022-02-25T15:28:12.186414Z",
     "iopub.status.idle": "2022-02-25T15:28:14.036533Z",
     "shell.execute_reply": "2022-02-25T15:28:14.035293Z",
     "shell.execute_reply.started": "2022-02-25T15:28:12.186985Z"
    }
   },
   "outputs": [],
   "source": [
    "fig,axes = plt.subplots(4,2,figsize=(20,20))\n",
    "sns.barplot(ax=axes[0][0],x = df_ap1.index, y = df_ap1['Rape'])\n",
    "sns.barplot(ax=axes[0][1],x = df_ap1.index, y = df_ap1['Dowry Deaths'])\n",
    "sns.barplot(ax=axes[1][0],x = df_ap1.index, y = df_ap1['Kidnapping and Abduction'])\n",
    "sns.barplot(ax=axes[1][1],x = df_ap1.index, y = df_ap1['Assault on women with intent to outrage her modesty'])\n",
    "sns.barplot(ax=axes[2][0],x = df_ap1.index, y = df_ap1['Insult to modesty of Women'])\n",
    "sns.barplot(ax=axes[2][1],x = df_ap1.index, y = df_ap1['Cruelty by Husband or his Relatives'])\n",
    "sns.barplot(ax=axes[3][0],x = df_ap1.index, y = df_ap1['Importation of Girls'])\n",
    "sns.barplot(ax=axes[3][1],x = df_ap1.index, y = df_ap1['total_crimes'])"
   ]
  },
  {
   "cell_type": "markdown",
   "metadata": {},
   "source": [
    "**West Bengal**"
   ]
  },
  {
   "cell_type": "markdown",
   "metadata": {},
   "source": [
    "![](https://th.bing.com/th/id/R0f210f33da156a2e1de7ad9d0949311b?rik=o9cFpTWvc8Ss%2fQ&riu=http%3a%2f%2fimages.indianexpress.com%2f2016%2f06%2fwest-bengal-7591.jpg&ehk=XuEsEPX9PjUhFg53g%2fnpeV%2bxOdPUnypgBCCCCJANBEc%3d&risl=&pid=ImgRaw)"
   ]
  },
  {
   "cell_type": "code",
   "execution_count": 70,
   "metadata": {
    "_kg_hide-input": true,
    "execution": {
     "iopub.execute_input": "2022-02-25T15:28:40.349626Z",
     "iopub.status.busy": "2022-02-25T15:28:40.349180Z",
     "iopub.status.idle": "2022-02-25T15:28:40.389803Z",
     "shell.execute_reply": "2022-02-25T15:28:40.388519Z",
     "shell.execute_reply.started": "2022-02-25T15:28:40.349591Z"
    }
   },
   "outputs": [],
   "source": [
    "df_wb=df.loc[df['STATE/UT']=='westbengal']\n",
    "df_wb1=pd.DataFrame()\n",
    "for i in crimes:\n",
    "    df_w=df_wb.groupby(['Year'])[i].sum()\n",
    "    df_wb1[i]=df_w\n",
    "df_wb1"
   ]
  },
  {
   "cell_type": "code",
   "execution_count": 71,
   "metadata": {
    "_kg_hide-input": true,
    "execution": {
     "iopub.execute_input": "2022-02-25T15:28:48.243533Z",
     "iopub.status.busy": "2022-02-25T15:28:48.243123Z",
     "iopub.status.idle": "2022-02-25T15:28:48.373734Z",
     "shell.execute_reply": "2022-02-25T15:28:48.372430Z",
     "shell.execute_reply.started": "2022-02-25T15:28:48.243497Z"
    }
   },
   "outputs": [],
   "source": [
    "fig = make_subplots(rows = 4, cols = 2, shared_xaxes=True,\n",
    "                    vertical_spacing=0.1,\n",
    "                    subplot_titles=(\"Rape\",\"Dowry Deaths\",\n",
    "                                    \"Kidnapping and Abduction\",\n",
    "                                    \"Assault on women to outrage\",\n",
    "                                    \"Insult to modesty of Women\",\n",
    "                                    \"Cruelty by Husband or his Relatives\",\n",
    "                                    \"Importation of Girls\", \"total_crimes\"))\n",
    "\n",
    "fig.add_trace(go.Scatter(x = df_wb1.index, y = df_wb1['Rape']),row = 1, col = 1)\n",
    "fig.add_trace(go.Scatter(x = df_wb1.index, y = df_wb1['Dowry Deaths']),row = 1, col = 2)\n",
    "fig.add_trace(go.Scatter(x = df_wb1.index, y = df_wb1['Kidnapping and Abduction']),row = 2, col = 1)\n",
    "fig.add_trace(go.Scatter(x = df_wb1.index, y = df_wb1['Assault on women with intent to outrage her modesty']),row = 2, col = 2)\n",
    "fig.add_trace(go.Scatter(x = df_wb1.index, y = df_wb1['Insult to modesty of Women']),row = 3, col = 1)\n",
    "fig.add_trace(go.Scatter(x = df_wb1.index, y = df_wb1['Cruelty by Husband or his Relatives']),row = 3, col = 2)\n",
    "fig.add_trace(go.Scatter(x = df_wb1.index, y = df_wb1['Importation of Girls']),row= 4 , col = 1)\n",
    "fig.add_trace(go.Scatter(x = df_wb1.index, y = df_wb1['total_crimes']),row = 4, col = 2)\n",
    "\n",
    "fig.update_layout(height=700, showlegend=False)\n",
    "\n",
    "fig.show()"
   ]
  },
  {
   "cell_type": "markdown",
   "metadata": {},
   "source": [
    "**I hope that these numbers will drop drastically in the coming years because in the modern era it makes no sense, in my opinion, to carry on the stereotype of women inferior to men and consequently all these crimes.**"
   ]
  },
  {
   "cell_type": "markdown",
   "metadata": {},
   "source": [
    "**Thank you so much for looking at this notebook, I hope you enjoyed it and if so I would invite you to put an upvote. If you have found any errors, please write them to me in the comments or even if you have any suggestions for improving the notebook. thank you very much again and good Kaggling!**"
   ]
  }
 ],
 "metadata": {
  "kernelspec": {
   "display_name": "Python 3",
   "language": "python",
   "name": "python3"
  },
  "language_info": {
   "codemirror_mode": {
    "name": "ipython",
    "version": 3
   },
   "file_extension": ".py",
   "mimetype": "text/x-python",
   "name": "python",
   "nbconvert_exporter": "python",
   "pygments_lexer": "ipython3",
   "version": "3.8.3"
  }
 },
 "nbformat": 4,
 "nbformat_minor": 4
}
